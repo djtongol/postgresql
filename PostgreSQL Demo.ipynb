{
 "cells": [
  {
   "cell_type": "markdown",
   "metadata": {},
   "source": [
    "## Single Table SQL"
   ]
  },
  {
   "cell_type": "markdown",
   "metadata": {},
   "source": [
    "   ### creating tables in PostgreSQL"
   ]
  },
  {
   "cell_type": "markdown",
   "metadata": {},
   "source": [
    "acccesing the database: psql -h pg.pg4e.com -p 5432 -U pg4e_cd9300d80a pg4e_cd9300d80a"
   ]
  },
  {
   "cell_type": "markdown",
   "metadata": {},
   "source": [
    "CREATE TABLE pg4e_debug (\n",
    "  id SERIAL,\n",
    "  query VARCHAR(4096),\n",
    "  result VARCHAR(4096),\n",
    "  created_at TIMESTAMP DEFAULT CURRENT_TIMESTAMP,\n",
    "  PRIMARY KEY(id)\n",
    ");`"
   ]
  },
  {
   "cell_type": "code",
   "execution_count": null,
   "metadata": {},
   "outputs": [],
   "source": [
    "CREATE TABLE pg4e_result (\n",
    "  id SERIAL,\n",
    "  link_id INTEGER UNIQUE,\n",
    "  score FLOAT,\n",
    "  title VARCHAR(4096),\n",
    "  note VARCHAR(4096),\n",
    "  debug_log VARCHAR(8192),\n",
    "  created_at TIMESTAMP DEFAULT CURRENT_TIMESTAMP,\n",
    "  updated_at TIMESTAMP\n",
    ");"
   ]
  },
  {
   "cell_type": "code",
   "execution_count": null,
   "metadata": {},
   "outputs": [],
   "source": [
    "SELECT query, result, created_at FROM pg4e_debug;"
   ]
  },
  {
   "cell_type": "markdown",
   "metadata": {},
   "source": [
    "##### Result"
   ]
  },
  {
   "cell_type": "code",
   "execution_count": null,
   "metadata": {},
   "outputs": [],
   "source": [
    "\n",
    " id |                                                     query                                                      |  result   |         created_at         \n",
    "----+----------------------------------------------------------------------------------------------------------------+-----------+----------------------------\n",
    " 84 | SELECT id, query, result, created_at FROM pg4e_debug                                                           | Success   | 2021-07-26 12:38:00.263924\n",
    " 85 | SELECT id, keystr, valstr FROM pg4e_meta                                                                       | Success   | 2021-07-26 12:38:00.278843\n",
    " 86 | SELECT id, doc FROM docs03 WHERE to_tsquery('english', 'applications') @@ to_tsvector('english', doc);         | Success   | 2021-07-26 12:38:00.28764\n",
    " 87 | EXPLAIN SELECT id, doc FROM docs03 WHERE to_tsquery('english', 'applications') @@ to_tsvector('english', doc); | Success   | 2021-07-26 12:38:00.290596\n",
    " 88 | Explain retrieved: Bitmap Heap Scan on docs03  (cost=12.39..81.75 rows=50 width=36)                            | Note only | 2021-07-26 12:38:00.295799\n",
    " 89 | Explain retrieved:   Recheck Cond: ('''applic'''::tsquery @@ to_tsvector('english'::regconfig, doc))           | Note only | 2021-07-26 12:38:00.305997\n",
    " 90 | Explain retrieved:   ->  Bitmap Index Scan on fulltext03  (cost=0.00..12.38 rows=50 width=0)                   | Note only | 2021-07-26 12:38:00.31585\n",
    " 91 | Explain retrieved:         Index Cond: ('''applic'''::tsquery @@ to_tsvector('english'::regconfig, doc))       | Note only | 2021-07-26 12:38:00.328743\n",
    "(8 rows)"
   ]
  },
  {
   "cell_type": "markdown",
   "metadata": {},
   "source": [
    "### Entering Many-to-One Data - Automobiles (first application)"
   ]
  },
  {
   "cell_type": "code",
   "execution_count": null,
   "metadata": {},
   "outputs": [],
   "source": [
    "Creating the necessary tables to make the relationships"
   ]
  },
  {
   "cell_type": "code",
   "execution_count": null,
   "metadata": {},
   "outputs": [],
   "source": [
    "CREATE TABLE make (\n",
    "    id SERIAL,\n",
    "    name VARCHAR(128) UNIQUE,\n",
    "    PRIMARY KEY(id)\n",
    ");\n",
    "\n",
    "CREATE TABLE model (\n",
    "  id SERIAL,\n",
    "  name VARCHAR(128),\n",
    "  make_id INTEGER REFERENCES make(id) ON DELETE CASCADE,\n",
    "  PRIMARY KEY(id)\n",
    ");"
   ]
  },
  {
   "cell_type": "markdown",
   "metadata": {},
   "source": [
    "#### results"
   ]
  },
  {
   "cell_type": "code",
   "execution_count": null,
   "metadata": {},
   "outputs": [],
   "source": [
    "SELECT make.name, model.name\n",
    "    FROM model\n",
    "    JOIN make ON model.make_id = make.id\n",
    "    ORDER BY make.name LIMIT 5;"
   ]
  },
  {
   "cell_type": "code",
   "execution_count": null,
   "metadata": {},
   "outputs": [],
   "source": [
    "     name     |        name        \n",
    "--------------+--------------------\n",
    " Buick        | Lacrose/Allure\n",
    " Buick        | Lacrose/Allure AWD\n",
    " Buick        | Lacrose/LeSabre\n",
    " Lambhorghini | Urus\n",
    " Lambhorghini | Veneno Roadster\n",
    "(5 rows)"
   ]
  },
  {
   "cell_type": "markdown",
   "metadata": {},
   "source": [
    "### Entering Many-to-One Data - course roster (second application)"
   ]
  },
  {
   "cell_type": "markdown",
   "metadata": {},
   "source": [
    "You will normalize the following data (each user gets different data), and insert the following data items into your database, creating and linking all the foreign keys properly. Encode instructor with a role of 1 and a learner with a role of 0."
   ]
  },
  {
   "cell_type": "markdown",
   "metadata": {},
   "source": [
    "Data:\n",
    "Pierce, si106, Instructor\n",
    "Dimitri, si106, Learner\n",
    "Evangeline, si106, Learner\n",
    "Keerah, si106, Learner\n",
    "Valeria, si106, Learner\n",
    "Haydyn, si110, Instructor\n",
    "Arooba, si110, Learner\n",
    "Grahame, si110, Learner\n",
    "Nivedita, si110, Learner\n",
    "Ryan, si110, Learner\n",
    "Gabriele, si206, Instructor\n",
    "Kira, si206, Learner\n",
    "Luic, si206, Learner\n",
    "Raina, si206, Learner\n",
    "Somaya, si206, Learner\n",
    "    \n"
   ]
  },
  {
   "cell_type": "markdown",
   "metadata": {},
   "source": [
    "#### creating the tables"
   ]
  },
  {
   "cell_type": "code",
   "execution_count": null,
   "metadata": {},
   "outputs": [],
   "source": [
    "CREATE TABLE student (\n",
    "    id SERIAL,\n",
    "    name VARCHAR(128) UNIQUE,\n",
    "    PRIMARY KEY(id)\n",
    ");\n",
    "\n",
    "DROP TABLE course CASCADE;\n",
    "CREATE TABLE course (\n",
    "    id SERIAL,\n",
    "    title VARCHAR(128) UNIQUE,\n",
    "    PRIMARY KEY(id)\n",
    ");\n",
    "\n",
    "DROP TABLE roster CASCADE;\n",
    "CREATE TABLE roster (\n",
    "    id SERIAL,\n",
    "    student_id INTEGER REFERENCES student(id) ON DELETE CASCADE,\n",
    "    course_id INTEGER REFERENCES course(id) ON DELETE CASCADE,\n",
    "    role INTEGER,\n",
    "    UNIQUE(student_id, course_id),\n",
    "    PRIMARY KEY (id)\n",
    ");\n"
   ]
  },
  {
   "cell_type": "markdown",
   "metadata": {},
   "source": [
    "#### normalizing data and querying result"
   ]
  },
  {
   "cell_type": "code",
   "execution_count": null,
   "metadata": {},
   "outputs": [],
   "source": [
    "Inserting data to students table\n",
    "insert into student (name) values ('Pierce');\n",
    "insert into student (name) values ('Dimitri');\n",
    "insert into student (name) values ('Evangeline');\n",
    "insert into student (name) values ('Keerah');\n",
    "insert into student (name) values ('Valeria');\n",
    "insert into student (name) values ('Haydyn');\n",
    "insert into student (name) values ('Arooba');\n",
    "insert into student (name) values ('Grahame');\n",
    "insert into student (name) values ('Nivedita');\n",
    "insert into student (name) values ('Ryan');\n",
    "insert into student (name) values ('Gabriele');\n",
    "insert into student (name) values ('Kira');\n",
    "insert into student (name) values ('Luic');\n",
    "insert into student (name) values ('Raina');\n",
    "insert into student (name) values ('Somaya');\n",
    "\n",
    "Inserting data into course table \n",
    "insert into course (title) values ('Si106');\n",
    "insert into course (title) values ('Si110');\n",
    "insert into course (title) values ('Si206');\n",
    "\n",
    "Inserting data into roster table\n",
    "insert into roster (student_id, course_id, role) values (1,1,1);\n",
    "insert into roster (student_id, course_id, role) values (2,1,0);\n",
    "insert into roster (student_id, course_id, role) values (3,1,0);\n",
    "insert into roster (student_id, course_id, role) values (4,1,0);\n",
    "insert into roster (student_id, course_id, role) values (5,1,0);\n",
    "insert into roster (student_id, course_id, role) values (6,2,1);\n",
    "insert into roster (student_id, course_id, role) values (7,2,0);\n",
    "insert into roster (student_id, course_id, role) values (8,2,0);\n",
    "insert into roster (student_id, course_id, role) values (9,2,0);\n",
    "insert into roster (student_id, course_id, role) values (10,2,0);\n",
    "insert into roster (student_id, course_id, role) values (11,3,1);\n",
    "insert into roster (student_id, course_id, role) values (12,3,0);\n",
    "insert into roster (student_id, course_id, role) values (13,3,0);\n",
    "insert into roster (student_id, course_id, role) values (14,3,0);\n",
    "insert into roster (student_id, course_id, role) values (15,3,0);\n"
   ]
  },
  {
   "cell_type": "markdown",
   "metadata": {},
   "source": [
    "#### query to test out results of data inserted"
   ]
  },
  {
   "cell_type": "code",
   "execution_count": null,
   "metadata": {},
   "outputs": [],
   "source": [
    "SELECT student.name, course.title, roster.role\n",
    "    FROM student \n",
    "    JOIN roster ON student.id = roster.student_id\n",
    "    JOIN course ON roster.course_id = course.id\n",
    "    ORDER BY course.title, roster.role DESC, student.name;"
   ]
  },
  {
   "cell_type": "markdown",
   "metadata": {},
   "source": [
    "#### result"
   ]
  },
  {
   "cell_type": "code",
   "execution_count": null,
   "metadata": {},
   "outputs": [],
   "source": [
    "    name    | title | role \n",
    "------------+-------+------\n",
    " Pierce     | Si106 |    1\n",
    " Dimitri    | Si106 |    0\n",
    " Evangeline | Si106 |    0\n",
    " Keerah     | Si106 |    0\n",
    " Valeria    | Si106 |    0\n",
    " Haydyn     | Si110 |    1\n",
    " Arooba     | Si110 |    0\n",
    " Grahame    | Si110 |    0\n",
    " Nivedita   | Si110 |    0\n",
    " Ryan       | Si110 |    0\n",
    " Gabriele   | Si206 |    1\n",
    " Kira       | Si206 |    0\n",
    " Luic       | Si206 |    0\n",
    " Raina      | Si206 |    0\n",
    " Somaya     | Si206 |    0\n",
    "(15 rows)"
   ]
  },
  {
   "cell_type": "markdown",
   "metadata": {},
   "source": [
    "### Implementing SQL techniques"
   ]
  },
  {
   "cell_type": "markdown",
   "metadata": {},
   "source": [
    "#### Tracks database"
   ]
  },
  {
   "cell_type": "markdown",
   "metadata": {},
   "source": [
    "#### creating the tables"
   ]
  },
  {
   "cell_type": "code",
   "execution_count": null,
   "metadata": {},
   "outputs": [],
   "source": [
    "CREATE TABLE album (\n",
    "  id SERIAL,\n",
    "  title VARCHAR(128) UNIQUE,\n",
    "  PRIMARY KEY(id)\n",
    ");\n",
    "\n",
    "CREATE TABLE track (\n",
    "    id SERIAL,\n",
    "    title VARCHAR(128),\n",
    "    len INTEGER, rating INTEGER, count INTEGER,\n",
    "    album_id INTEGER REFERENCES album(id) ON DELETE CASCADE,\n",
    "    UNIQUE(title, album_id),\n",
    "    PRIMARY KEY(id)\n",
    ");\n",
    "\n",
    "DROP TABLE IF EXISTS track_raw;\n",
    "CREATE TABLE track_raw\n",
    " (title TEXT, artist TEXT, album TEXT, album_id INTEGER,\n",
    "  count INTEGER, rating INTEGER, len INTEGER);"
   ]
  },
  {
   "cell_type": "markdown",
   "metadata": {},
   "source": [
    "Importing data and inserting it to track_raw table"
   ]
  },
  {
   "cell_type": "code",
   "execution_count": null,
   "metadata": {},
   "outputs": [],
   "source": [
    " \\copy track_raw(title,artist,album,count,rating,len) FROM 'library.csv' WITH DELIMITER ',' CSV;\n",
    "COPY 296"
   ]
  },
  {
   "cell_type": "markdown",
   "metadata": {},
   "source": [
    "Inserting data into albums table"
   ]
  },
  {
   "cell_type": "code",
   "execution_count": null,
   "metadata": {},
   "outputs": [],
   "source": [
    "insert into album (title) select distinct album from track_raw;                                                         \n",
    "INSERT 0 41"
   ]
  },
  {
   "cell_type": "markdown",
   "metadata": {},
   "source": [
    "Inserting data into track table"
   ]
  },
  {
   "cell_type": "code",
   "execution_count": null,
   "metadata": {},
   "outputs": [],
   "source": [
    "insert into track (title, len, rating, count, album_id)\n",
    "select tr.title, tr.len, tr.rating, tr.count, al.id\n",
    "from track_raw as tr\n",
    "join album as al on al.title = tr.album;"
   ]
  },
  {
   "cell_type": "markdown",
   "metadata": {},
   "source": [
    "#### checking results from inserting"
   ]
  },
  {
   "cell_type": "code",
   "execution_count": null,
   "metadata": {},
   "outputs": [],
   "source": [
    "SELECT track.title, album.title\n",
    "    FROM track\n",
    "    JOIN album ON track.album_id = album.id\n",
    "    ORDER BY track.title LIMIT 3;"
   ]
  },
  {
   "cell_type": "code",
   "execution_count": null,
   "metadata": {},
   "outputs": [],
   "source": [
    "          title            |     album     | id \n",
    "----------------------------+---------------+----\n",
    " Another One Bites The Dust | Greatest Hits |  5\n",
    " Asche Zu Asche             | Herzeleid     | 16\n",
    " Beauty School Dropout      | Grease        | 12\n",
    "(3 rows)"
   ]
  },
  {
   "cell_type": "markdown",
   "metadata": {},
   "source": [
    "### Manipulating text in PostgreSQL"
   ]
  },
  {
   "cell_type": "markdown",
   "metadata": {},
   "source": [
    "#### Creating a stored procedure (creating a function that stores the date that it is made and can be updated)"
   ]
  },
  {
   "cell_type": "code",
   "execution_count": null,
   "metadata": {},
   "outputs": [],
   "source": [
    "CREATE TABLE keyvalue ( \n",
    "  id SERIAL,\n",
    "  key VARCHAR(128) UNIQUE,\n",
    "  value VARCHAR(128) UNIQUE,\n",
    "  created_at TIMESTAMPTZ NOT NULL DEFAULT NOW(),\n",
    "  updated_at TIMESTAMPTZ NOT NULL DEFAULT NOW(),\n",
    "  PRIMARY KEY(id)\n",
    ");\n",
    "\n",
    "CREATE OR REPLACE FUNCTION trigger_set_timestamp()\n",
    "RETURNS TRIGGER as $$\n",
    "BEGIN\n",
    "\tNEW.updated_at = NOW();\n",
    "\tReturn new;\n",
    "end\n",
    "$$ language plpgsql;\n",
    "\n",
    "create trigger set_timestamp\n",
    "before update on keyvalue\n",
    "for each row\n",
    "execute procedure trigger_set_timestamp();\n"
   ]
  },
  {
   "cell_type": "markdown",
   "metadata": {},
   "source": [
    "#### result"
   ]
  },
  {
   "cell_type": "markdown",
   "metadata": {},
   "source": [
    "select * from keyvalue;\n",
    "\n",
    "key   | value |          created_at           |          updated_at          \n",
    "----+--------+-------+-------------------------------+------------------------------\n",
    "  2 | number | 43    | 2021-07-24 00:03:45.452044+00 | 2021-07-24 00:03:45.47357+00"
   ]
  },
  {
   "cell_type": "markdown",
   "metadata": {},
   "source": [
    "### Using GROUP BY"
   ]
  },
  {
   "cell_type": "markdown",
   "metadata": {},
   "source": [
    "Creating Northwind Table"
   ]
  },
  {
   "cell_type": "code",
   "execution_count": null,
   "metadata": {},
   "outputs": [],
   "source": [
    "DROP TABLE IF EXISTS suppliers CASCADE;\n",
    "DROP TABLE IF EXISTS categories CASCADE;\n",
    "DROP TABLE IF EXISTS customers CASCADE;\n",
    "DROP TABLE IF EXISTS regions CASCADE;\n",
    "DROP TABLE IF EXISTS shippers CASCADE;\n",
    "DROP TABLE IF EXISTS territories CASCADE;\n",
    "DROP TABLE IF EXISTS employee_territories CASCADE;\n",
    "DROP TABLE IF EXISTS employees CASCADE;\n",
    "DROP TABLE IF EXISTS products CASCADE;\n",
    "DROP TABLE IF EXISTS orders CASCADE;\n",
    "DROP TABLE IF EXISTS order_details CASCADE; \n",
    "\n",
    "\n",
    "--------------------------------------------------------------------------------\n",
    "-- Name: suppliers; Type: TABLE; Schema: public; Owner: -; Tablespace: \n",
    "--------------------------------------------------------------------------------\n",
    "\n",
    "CREATE TABLE suppliers (\n",
    "    supp_id smallint NOT NULL PRIMARY KEY,\n",
    "    company_name varchar(60) NOT NULL,\n",
    "    contact_name varchar(30),\n",
    "    contact_title varchar(30),\n",
    "    address varchar(60),\n",
    "    city varchar(15),\n",
    "    region varchar(15),\n",
    "    postal_code varchar(10),\n",
    "    country varchar(15),\n",
    "    phone varchar(24),\n",
    "    fax varchar(24),\n",
    "    homepage text\n",
    ");\n",
    "\n",
    "--------------------------------------------------------------------------------\n",
    "-- Name: product_categories; Type: TABLE; Schema: public; Owner: -; Tablespace: \n",
    "--------------------------------------------------------------------------------\n",
    "CREATE TABLE categories (\n",
    "    category_id smallint NOT NULL PRIMARY KEY,\n",
    "    category_name varchar(15) NOT NULL,\n",
    "    description text,\n",
    "    picture bytea\n",
    ");\n",
    "\n",
    "\n",
    "--------------------------------------------------------------------------------\n",
    "-- Name: customers; Type: TABLE; Schema: public; Owner: -; Tablespace: \n",
    "--------------------------------------------------------------------------------\n",
    "\n",
    "CREATE TABLE customers (\n",
    "    cust_id bpchar NOT NULL PRIMARY KEY,\n",
    "    company_name varchar(40) NOT NULL,\n",
    "    contact_name varchar(30),\n",
    "    contact_title varchar(30),\n",
    "    address varchar(60),\n",
    "    city varchar(15),\n",
    "    region varchar(15),\n",
    "    postal_code varchar(10),\n",
    "    country varchar(15),\n",
    "    phone varchar(24),\n",
    "    fax varchar(24)\n",
    ");\n",
    "\n",
    "--------------------------------------------------------------------------------\n",
    "-- Name: regions; Type: TABLE; Schema: public; Owner: -; Tablespace: \n",
    "--------------------------------------------------------------------------------\n",
    "CREATE TABLE regions (\n",
    "    region_id smallint NOT NULL PRIMARY KEY,\n",
    "    region_description varchar NOT NULL\n",
    ");\n",
    "\n",
    "\n",
    "--------------------------------------------------------------------------------\n",
    "-- Name: shippers; Type: TABLE; Schema: public; Owner: -; Tablespace: \n",
    "--------------------------------------------------------------------------------\n",
    "CREATE TABLE shippers (\n",
    "    shipper_id smallint NOT NULL PRIMARY KEY,\n",
    "    company_name varchar(40) NOT NULL,\n",
    "    phone varchar(24)\n",
    ");\n",
    "\n",
    "--------------------------------------------------------------------------------\n",
    "-- Name: territories; Type: TABLE; Schema: public; Owner: -; Tablespace: \n",
    "--------------------------------------------------------------------------------\n",
    "\n",
    "CREATE TABLE territories (\n",
    "    territory_id character varying(20) NOT NULL PRIMARY KEY,\n",
    "    territory_description bpchar NOT NULL,\n",
    "    region_id smallint NOT NULL REFERENCES regions(region_id)\n",
    ");\n",
    "\n",
    "\n",
    "--------------------------------------------------------------------------------\n",
    "-- Name: employee_territories; Type: TABLE; Schema: public; Owner: -; Tablespace: \n",
    "--------------------------------------------------------------------------------\n",
    "CREATE TABLE employee_territories (\n",
    "    emp_id smallint NOT NULL,\n",
    "    territory_id varchar(20) NOT NULL REFERENCES territories(territory_id),\n",
    "\tPRIMARY KEY (emp_id, territory_id)\n",
    ");\n",
    "\n",
    "--------------------------------------------------------------------------------\n",
    "-- Name: employees; Type: TABLE; Schema: public; Owner: -; Tablespace: \n",
    "--------------------------------------------------------------------------------\n",
    "CREATE TABLE employees (\n",
    "    emp_id smallint NOT NULL PRIMARY KEY,\n",
    "    last_name character varying(20) NOT NULL,\n",
    "    first_name character varying(10) NOT NULL,\n",
    "    title character varying(30),\n",
    "    title_of_courtesy character varying(25),\n",
    "    birth_date date,\n",
    "    hire_date date,\n",
    "    emp_curr_salary real,\n",
    "    address character varying(60),\n",
    "    city character varying(15),\n",
    "    region character varying(15),\n",
    "    postal_code character varying(10),\n",
    "    country character varying(15),\n",
    "    home_phone character varying(24),\n",
    "    extension character varying(4),\n",
    "    photo bytea,\n",
    "    notes text,\n",
    "    reports_to smallint,\n",
    "    photo_path character varying(255)\n",
    ");\n",
    "\n",
    "--------------------------------------------------------------------------------\n",
    "-- Name: products; Type: TABLE; Schema: public; Owner: -; Tablespace: \n",
    "--------------------------------------------------------------------------------\n",
    "\n",
    "CREATE TABLE products (\n",
    "    prod_id smallint NOT NULL PRIMARY KEY,\n",
    "    prod_name character varying(40) NOT NULL,\n",
    "    supp_id smallint REFERENCES suppliers(supp_id),\n",
    "    category_id smallint REFERENCES categories(category_id),\n",
    "    quantity_per_unit character varying(20),\n",
    "    unit_price real,\n",
    "    units_in_stock smallint,\n",
    "    units_on_order smallint,\n",
    "    reorder_level smallint,\n",
    "    discontinued integer NOT NULL\n",
    ");\n",
    "\n",
    "--------------------------------------------------------------------------------\n",
    "-- Name: orders; Type: TABLE; Schema: public; Owner: -; Tablespace: \n",
    "--------------------------------------------------------------------------------\n",
    "CREATE TABLE orders (\n",
    "    order_id smallint NOT NULL PRIMARY KEY,\n",
    "    cust_id bpchar REFERENCES customers(cust_id),\n",
    "    emp_id smallint REFERENCES employees(emp_id),\n",
    "    order_date date,\n",
    "    required_date date,\n",
    "    shipped_date date,\n",
    "    ship_via smallint REFERENCES shippers (shipper_id),\n",
    "    freight real,\n",
    "    ship_name character varying(40),\n",
    "    ship_address character varying(60),\n",
    "    ship_city character varying(15),\n",
    "    ship_region character varying(15),\n",
    "    ship_postal_code character varying(10),\n",
    "    ship_country character varying(15)\n",
    ");\n",
    "\n",
    "--------------------------------------------------------------------------------\n",
    "-- Name: order_details; Type: TABLE; Schema: public; Owner: -; Tablespace: \n",
    "--------------------------------------------------------------------------------\n",
    "CREATE TABLE order_details (\n",
    "    order_id smallint NOT NULL REFERENCES orders(order_id),\n",
    "    prod_id smallint NOT NULL REFERENCES products(prod_id),\n",
    "    unit_price real NOT NULL,\n",
    "    quantity smallint NOT NULL,\n",
    "    discount real NOT NULL,\n",
    "\tPRIMARY KEY (order_id, prod_id)\n",
    ");\n",
    "\n",
    "--------------------------------------------------------------------------------\n",
    "-- add remaining constraints\n",
    "--------------------------------------------------------------------------------\n",
    "ALTER TABLE employees \n",
    "ADD CONSTRAINT employees_emp_id_fkey FOREIGN KEY (emp_id) REFERENCES employees (emp_id);\n"
   ]
  },
  {
   "cell_type": "markdown",
   "metadata": {},
   "source": [
    "#### Using Group by\n"
   ]
  },
  {
   "cell_type": "code",
   "execution_count": null,
   "metadata": {},
   "outputs": [],
   "source": [
    "SELECT cat.category_name, count(prod_name)\n",
    "from products prod\n",
    "inner join categories cat \n",
    "on prod.category_id = cat.category_id\n",
    "group by category_name;\n",
    "\n",
    "\n",
    "Result:\n",
    "    \n",
    " category_name  | count\n",
    "----------------+-------\n",
    " Grains/Cereals |     7\n",
    " Beverages      |    12\n",
    " Dairy Products |    10\n",
    " Seafood        |    12\n",
    " Produce        |     5\n",
    " Condiments     |    12\n",
    " Meat/Poultry   |     6\n",
    " Confections    |    13\n",
    "(8 rows)\n"
   ]
  },
  {
   "cell_type": "markdown",
   "metadata": {},
   "source": [
    "### Using Subquerries"
   ]
  },
  {
   "cell_type": "code",
   "execution_count": null,
   "metadata": {},
   "outputs": [],
   "source": [
    "select cust_id, sum(order_amount) as total_order_amount\n",
    "\tfrom (select ord.order_id, cust_id, emp.last_name, emp.first_name, prod_id,\n",
    "\tunit_price, quantity, unit_price*quantity as Order_Amount\n",
    "\tfrom orders ord\n",
    "\tinner join order_details od on ord.order_id = od.order_id\n",
    "\tinner join employees emp on ord.emp_id= emp.emp_id) as emp_orders\n",
    "group by cust_id;\n",
    "\n",
    "result:\n",
    "    \n",
    " cust_id | total_order_amount\n",
    "---------+--------------------\n",
    " TOMSP   |  4954.000060558319\n",
    " LONEP   |  4258.599994659424\n",
    " OLDWO   |  16325.15002822876\n",
    " WARTH   |  16617.10011959076\n",
    " MAGAA   |  7603.849960327148\n",
    " QUEEN   |  30226.10017967224\n",
    " VINET   | 1480.0000019073486\n",
    " ANTON   |  7515.349945068359\n",
    " MORGK   |  5042.200035095215\n",
    " GOURL   |  8702.229988098145\n",
    " WOLZA   |  3531.949995994568\n",
    " GALED   |  836.6999950408936\n",
    " RATTC   |  52245.90034675598\n",
    " WELLI   |   6480.69997215271\n",
    " WILMK   |  3161.349983215332\n",
    " FURIB   |  7151.550024986267\n",
    " DUMON   | 1615.8999881744385\n",
    " FRANK   |  28722.70993900299\n",
    " FAMIA   |  4438.899929523468\n",
    " TORTU   | 10812.150033950806\n",
    " FRANS   | 1545.6999979019165\n",
    " PRINI   |  5317.100019454956\n",
    " RANCH   |  2844.099998474121\n",
    " PERIC   |  4242.200015068054\n",
    " CONSH   |  1719.099988937378\n",
    " ISLAT   |  6146.299984931946\n",
    " LEHMS   | 21282.019976615906\n",
    "-- More  --"
   ]
  },
  {
   "cell_type": "markdown",
   "metadata": {},
   "source": [
    "#### Using Subquerry on Select statement"
   ]
  },
  {
   "cell_type": "code",
   "execution_count": null,
   "metadata": {},
   "outputs": [],
   "source": [
    " select cust.cust_id, (select sum(freight) \n",
    " \t\t\t\t\t\tfrom orders ord\n",
    "\t\t\t\t\t   where cust.cust_id = ord.cust_id) \n",
    "from customers cust;\n",
    "\n",
    "result:\n",
    "\n",
    " cust_id |    sum\n",
    "---------+-----------\n",
    " ALFKI   |    225.58\n",
    " ANATR   |     97.42\n",
    " ANTON   |    268.52\n",
    " AROUT   | 471.94998\n",
    " BERGS   | 1559.5199\n",
    " BLAUS   |    168.26\n",
    " BLONP   |    623.66\n",
    " BOLID   |    191.17\n",
    " BONAP   | 1357.8701\n",
    " BOTTM   |  793.9501\n",
    " BSBEV   |    281.31\n",
    " CACTU   |     72.76\n",
    " CENTC   |      3.25\n",
    " CHOPS   |    367.24\n",
    " COMMI   |    187.82\n",
    " CONSH   | 53.620003\n",
    " DRACD   |    306.04\n",
    " DUMON   | 63.699997\n",
    " EASTC   | 832.33997\n",
    " ERNSH   |   6205.39\n",
    " FAMIA   |    232.75\n",
    " FISSA   |\n",
    " FOLIG   | 637.93994\n",
    " FOLKO   | 1678.0802\n",
    " FRANK   | 1403.4398\n",
    " FRANR   |    171.42\n",
    " FRANS   | 75.130005"
   ]
  },
  {
   "cell_type": "markdown",
   "metadata": {},
   "source": [
    "#### Computing running Sum on SQL"
   ]
  },
  {
   "cell_type": "code",
   "execution_count": null,
   "metadata": {},
   "outputs": [],
   "source": [
    "select order_id, order_date, freight,\n",
    "\tsum(freight) over (order by order_id) as running_freight_total\n",
    "from orders;\n",
    "\n",
    "result:\n",
    "    \n",
    " order_id | order_date | freight | running_freight_total\n",
    "----------+------------+---------+-----------------------\n",
    "    10248 | 1996-07-04 |   32.38 |                 32.38\n",
    "    10249 | 1996-07-05 |   11.61 |                 43.99\n",
    "    10250 | 1996-07-08 |   65.83 |             109.82001\n",
    "    10251 | 1996-07-08 |   41.34 |                151.16\n",
    "    10252 | 1996-07-09 |    51.3 |                202.46\n",
    "    10253 | 1996-07-10 |   58.17 |                260.63\n",
    "    10254 | 1996-07-11 |   22.98 |             283.61002\n",
    "    10255 | 1996-07-12 |  148.33 |                431.94\n",
    "    10256 | 1996-07-15 |   13.97 |                445.91\n",
    "    10257 | 1996-07-16 |   81.91 |                527.82\n",
    "    10258 | 1996-07-17 |  140.51 |                668.33\n",
    "    10259 | 1996-07-18 |    3.25 |                671.58\n",
    "    10260 | 1996-07-19 |   55.09 |             726.67004\n",
    "    10261 | 1996-07-19 |    3.05 |             729.72003\n",
    "    10262 | 1996-07-22 |   48.29 |                778.01\n",
    "    10263 | 1996-07-23 |  146.06 |                924.07\n",
    "    10264 | 1996-07-24 |    3.67 |                927.74\n",
    "    10265 | 1996-07-25 |   55.28 |                983.02\n",
    "    10266 | 1996-07-26 |   25.73 |               1008.75\n",
    "    10267 | 1996-07-29 |  208.58 |               1217.33\n",
    "    10268 | 1996-07-30 |   66.29 |               1283.62\n",
    "    10269 | 1996-07-31 |    4.56 |               1288.18\n",
    "    10270 | 1996-08-01 |  136.54 |             1424.7201\n",
    "    10271 | 1996-08-01 |    4.54 |             1429.2601\n",
    "    10272 | 1996-08-02 |   98.03 |             1527.2902\n",
    "    10273 | 1996-08-05 |   76.07 |             1603.3601\n",
    "    10274 | 1996-08-06 |    6.01 |             1609.3701"
   ]
  },
  {
   "cell_type": "markdown",
   "metadata": {},
   "source": [
    "##### running sum with groupings"
   ]
  },
  {
   "cell_type": "code",
   "execution_count": null,
   "metadata": {},
   "outputs": [],
   "source": [
    "select order_id, order_date, cust_id, freight,\n",
    "\tsum(freight) over (partition by cust_id order by order_id) as running_freight_total\n",
    "from orders;\n",
    " order_id | order_date | cust_id | freight | running_freight_total\n",
    "----------+------------+---------+---------+-----------------------\n",
    "    10643 | 1997-08-25 | ALFKI   |   29.46 |                 29.46\n",
    "    10692 | 1997-10-03 | ALFKI   |   61.02 |             90.479996\n",
    "    10702 | 1997-10-13 | ALFKI   |   23.94 |                114.42\n",
    "    10835 | 1998-01-15 | ALFKI   |   69.53 |                183.95\n",
    "    10952 | 1998-03-16 | ALFKI   |   40.42 |                224.37\n",
    "    11011 | 1998-04-09 | ALFKI   |    1.21 |                225.58\n",
    "    10308 | 1996-09-18 | ANATR   |    1.61 |                  1.61\n",
    "    10625 | 1997-08-08 | ANATR   |    43.9 |             45.510002\n",
    "    10759 | 1997-11-28 | ANATR   |   11.99 |                  57.5\n",
    "    10926 | 1998-03-04 | ANATR   |   39.92 |                 97.42\n",
    "    10365 | 1996-11-27 | ANTON   |      22 |                    22\n",
    "    10507 | 1997-04-15 | ANTON   |   47.45 |                 69.45\n",
    "    10535 | 1997-05-13 | ANTON   |   15.64 |                 85.09\n",
    "    10573 | 1997-06-19 | ANTON   |   84.84 |                169.93\n",
    "    10677 | 1997-09-22 | ANTON   |    4.03 |             173.95999\n",
    "    10682 | 1997-09-25 | ANTON   |   36.13 |                210.09\n",
    "    10856 | 1998-01-28 | ANTON   |   58.43 |                268.52\n",
    "    10355 | 1996-11-15 | AROUT   |   41.95 |                 41.95\n",
    "    10383 | 1996-12-16 | AROUT   |   34.24 |                 76.19\n",
    "    10453 | 1997-02-21 | AROUT   |   25.36 |                101.55\n",
    "    10558 | 1997-06-04 | AROUT   |   72.97 |                174.52\n",
    "    10707 | 1997-10-16 | AROUT   |   21.74 |             196.26001\n",
    "    10741 | 1997-11-14 | AROUT   |   10.96 |             207.22002\n",
    "    10743 | 1997-11-17 | AROUT   |   23.72 |             230.94002\n",
    "    10768 | 1997-12-08 | AROUT   |  146.32 |                377.26\n",
    "    10793 | 1997-12-24 | AROUT   |    4.52 |                381.78\n",
    "    10864 | 1998-02-02 | AROUT   |    3.04 |                384.82\n",
    "    10920 | 1998-03-03 | AROUT   |   29.61 |                414.43\n",
    "    10953 | 1998-03-16 | AROUT   |   23.72 |                438.15\n",
    "    11016 | 1998-04-10 | AROUT   |    33.8 |             471.94998"
   ]
  },
  {
   "cell_type": "markdown",
   "metadata": {},
   "source": [
    "#### Computing average total"
   ]
  },
  {
   "cell_type": "code",
   "execution_count": null,
   "metadata": {},
   "outputs": [],
   "source": [
    "Computing average total \n",
    "\n",
    "select order_id, order_date, cust_id, freight,\n",
    "\tsum(freight) over (order by order_id) as running_freight_total,\n",
    "\tavg(freight) over (order by order_id) as running_freight_average\n",
    "from orders;\n",
    "\n",
    "\n",
    "result:\n",
    "    \n",
    " order_id | order_date | cust_id | freight | running_freight_total | running_freight_average\n",
    "----------+------------+---------+---------+-----------------------+-------------------------\n",
    "    10248 | 1996-07-04 | VINET   |   32.38 |                 32.38 |      32.380001068115234\n",
    "    10249 | 1996-07-05 | TOMSP   |   11.61 |                 43.99 |       21.99500036239624\n",
    "    10250 | 1996-07-08 | HANAR   |   65.83 |             109.82001 |       36.60666751861572\n",
    "    10251 | 1996-07-08 | VICTE   |   41.34 |                151.16 |      37.790000677108765\n",
    "    10252 | 1996-07-09 | SUPRD   |    51.3 |                202.46 |       40.49200038909912\n",
    "    10253 | 1996-07-10 | HANAR   |   58.17 |                260.63 |       43.43833335240682\n",
    "    10254 | 1996-07-11 | CHOPS   |   22.98 |             283.61002 |       40.51571423666818\n",
    "    10255 | 1996-07-12 | RICSU   |  148.33 |                431.94 |       53.99250018596649\n",
    "    10256 | 1996-07-15 | WELLI   |   13.97 |                445.91 |       49.54555575052897\n",
    "    10257 | 1996-07-16 | HILAA   |   81.91 |                527.82 |       52.78200054168701\n",
    "    10258 | 1996-07-17 | ERNSH   |  140.51 |                668.33 |      60.757272720336914\n",
    "    10259 | 1996-07-18 | CENTC   |    3.25 |                671.58 |      55.964999993642174\n",
    "    10260 | 1996-07-19 | OTTIK   |   55.09 |             726.67004 |       55.89769231356107\n",
    "    10261 | 1996-07-19 | QUEDE   |    3.05 |             729.72003 |       52.12285714490073"
   ]
  },
  {
   "cell_type": "markdown",
   "metadata": {},
   "source": [
    "#### Using Row Number"
   ]
  },
  {
   "cell_type": "code",
   "execution_count": null,
   "metadata": {},
   "outputs": [],
   "source": [
    "select prod_id, prod_name, supp_id, category_id,\n",
    "\trow_number () over (order by prod_id)\n",
    "from products;\n",
    "\n",
    "result:\n",
    "\n",
    "prod_id |            prod_name             | supp_id | category_id | row_number\n",
    "---------+----------------------------------+---------+-------------+------------\n",
    "       1 | Chai                             |       8 |           1 |          1\n",
    "       2 | Chang                            |       1 |           1 |          2\n",
    "       3 | Aniseed Syrup                    |       1 |           2 |          3\n",
    "       4 | Chef Anton's Cajun Seasoning     |       2 |           2 |          4\n",
    "       5 | Chef Anton's Gumbo Mix           |       2 |           2 |          5\n",
    "       6 | Grandma's Boysenberry Spread     |       3 |           2 |          6\n",
    "       7 | Uncle Bob's Organic Dried Pears  |       3 |           7 |          7\n",
    "       8 | Northwoods Cranberry Sauce       |       3 |           2 |          8\n",
    "       9 | Mishi Kobe Niku                  |       4 |           6 |          9\n",
    "      10 | Ikura                            |       4 |           8 |         10\n",
    "        \n",
    "        \n",
    "With Partition:\n",
    "    \n",
    "select prod_id, prod_name, supp_id, category_id,\n",
    "\trow_number () over (partition by supp_id order by prod_id)\n",
    "from products;\n",
    "\n",
    "result:\n",
    "\n",
    "prod_id |            prod_name             | supp_id | category_id | row_number\n",
    "---------+----------------------------------+---------+-------------+------------\n",
    "       2 | Chang                            |       1 |           1 |          1\n",
    "       3 | Aniseed Syrup                    |       1 |           2 |          2\n",
    "       4 | Chef Anton's Cajun Seasoning     |       2 |           2 |          1\n",
    "       5 | Chef Anton's Gumbo Mix           |       2 |           2 |          2\n",
    "      65 | Louisiana Fiery Hot Pepper Sauce |       2 |           2 |          3\n",
    "      66 | Louisiana Hot Spiced Okra        |       2 |           2 |          4\n",
    "       6 | Grandma's Boysenberry Spread     |       3 |           2 |          1\n",
    "       7 | Uncle Bob's Organic Dried Pears  |       3 |           7 |          2\n",
    "       8 | Northwoods Cranberry Sauce       |       3 |           2 |          3\n",
    "    \n",
    "    \n",
    "Getting the nth row\n",
    "\n",
    "select prod_id, prod_name, supp_id, category_id, unit_price \n",
    "from products\n",
    "where unit_price = (\n",
    "\tselect  unit_price\n",
    "\tfrom (\n",
    "\t\tselect unit_price, row_number()\n",
    "\t\t over (order by unit_price desc) nth\n",
    "\t\tfrom (select distinct (unit_price) from products) prices\n",
    "\t) sorted_prices\n",
    "\twhere nth =6);\n",
    "\n",
    "Result:\n",
    "    \n",
    " prod_id |      prod_name       | supp_id | category_id | unit_price\n",
    "---------+----------------------+---------+-------------+------------\n",
    "      59 | Raclette Courdavault |      28 |           4 |         55\n",
    "(1 row)"
   ]
  },
  {
   "cell_type": "markdown",
   "metadata": {},
   "source": [
    "#### Using rank"
   ]
  },
  {
   "cell_type": "code",
   "execution_count": null,
   "metadata": {},
   "outputs": [],
   "source": [
    "Result:\n",
    "\n",
    "select prod_id, prod_name, supp_id, category_id, unit_price,\n",
    "\trank() over (order by unit_price) unit_price_rank\n",
    "from products;    \n",
    "\n",
    "prod_id |            prod_name             | supp_id | category_id | unit_price | unit_price_rank\n",
    "---------+----------------------------------+---------+-------------+------------+-----------------\n",
    "      33 | Geitost                          |      15 |           4 |        2.5 |               1\n",
    "      24 | Guaranß Fantßstica               |      10 |           1 |        4.5 |               2\n",
    "      13 | Konbu                            |       6 |           8 |          6 |               3\n",
    "      52 | Filo Mix                         |      24 |           5 |          7 |               4\n",
    "      54 | TourtiΦre                        |      25 |           6 |       7.45 |               5\n",
    "      75 | Rh÷nbrΣu Klosterbier             |      12 |           1 |       7.75 |               6\n",
    "      23 | Tunnbr÷d                         |       9 |           5 |          9 |               7\n",
    "      19 | Teatime Chocolate Biscuits       |       8 |           3 |        9.2 |               8\n",
    "      47 | Zaanse koeken                    |      22 |           3 |        9.5 |               9\n",
    "      45 | Rogede sild                      |      21 |           8 |        9.5 |               9\n",
    "      41 | Jack's New England Clam Chowder  |      19 |           8 |       9.65 |              11\n",
    "      74 | Longlife Tofu                    |       4 |           7 |         10 |              12\n",
    "       3 | Aniseed Syrup                    |       1 |           2 |         10 |              12"
   ]
  },
  {
   "cell_type": "markdown",
   "metadata": {},
   "source": [
    "#### Using Dense Rank"
   ]
  },
  {
   "cell_type": "code",
   "execution_count": null,
   "metadata": {},
   "outputs": [],
   "source": [
    "select prod_id, prod_name, supp_id, category_id, unit_price,\n",
    "\tdense_rank() over (partition by category_id order by unit_price) unit_price_rank\n",
    "from products;\n",
    "\n",
    "Results:\n",
    "    \n",
    "prod_id |            prod_name             | supp_id | category_id | unit_price | unit_price_rank\n",
    "---------+----------------------------------+---------+-------------+------------+-----------------\n",
    "      24 | Guaranß Fantßstica               |      10 |           1 |        4.5 |               1\n",
    "      75 | Rh÷nbrΣu Klosterbier             |      12 |           1 |       7.75 |               2\n",
    "      34 | Sasquatch Ale                    |      16 |           1 |         14 |               3\n",
    "      67 | Laughing Lumberjack Lager        |      16 |           1 |         14 |               3\n",
    "      70 | Outback Lager                    |       7 |           1 |         15 |               4\n",
    "      35 | Steeleye Stout                   |      16 |           1 |         18 |               5\n",
    "      76 | Lakkalik÷÷ri                     |      23 |           1 |         18 |               5\n",
    "       1 | Chai                             |       8 |           1 |         18 |               5\n",
    "        \n",
    "        \n",
    "        \n",
    "Using Dense Rank with CTE\n",
    "\n",
    "with cte as (select prod_id, prod_name, supp_id, category_id, unit_price,\n",
    "\tdense_rank() over (partition by category_id order by unit_price desc) unit_price_rank\n",
    "from products)\n",
    "\n",
    "select prod_id, prod_name, unit_price\n",
    "from cte\n",
    "where unit_price_rank =1;"
   ]
  },
  {
   "cell_type": "markdown",
   "metadata": {},
   "source": [
    "### First Value Window Function"
   ]
  },
  {
   "cell_type": "code",
   "execution_count": null,
   "metadata": {},
   "outputs": [],
   "source": [
    "select prod_id, prod_name, supp_id, category_id, unit_price,\n",
    "\tfirst_value (unit_price) over (order by unit_price) as lowest_price\n",
    "from products;\n",
    "\n",
    "Result:\n",
    " prod_id |            prod_name             | supp_id | category_id | unit_price | lowest_price\n",
    "---------+----------------------------------+---------+-------------+------------+--------------\n",
    "      33 | Geitost                          |      15 |           4 |        2.5 |          2.5\n",
    "      24 | Guaranß Fantßstica               |      10 |           1 |        4.5 |          2.5\n",
    "      13 | Konbu                            |       6 |           8 |          6 |          2.5\n",
    "      52 | Filo Mix                         |      24 |           5 |          7 |          2.5\n",
    "      54 | TourtiΦre                        |      25 |           6 |       7.45 |          2.5\n",
    "      75 | Rh÷nbrΣu Klosterbier             |      12 |           1 |       7.75 |          2.5\n",
    "      23 | Tunnbr÷d                         |       9 |           5 |          9 |          2.5\n",
    "      19 | Teatime Chocolate Biscuits       |       8 |           3 |        9.2 |          2.5\n",
    "      47 | Zaanse koeken                    |      22 |           3 |        9.5 |          2.5\n",
    "    \n",
    "\n",
    "With Partition:\n",
    "    \n",
    "select prod_id, prod_name, category_id, unit_price,\n",
    "\tfirst_value (prod_name) over (partition by category_id order by unit_price) \n",
    "\tas lowest_price_category\n",
    "from products;\n"
   ]
  },
  {
   "cell_type": "markdown",
   "metadata": {},
   "source": [
    "#### Using Lag_function and CTE to get variance"
   ]
  },
  {
   "cell_type": "code",
   "execution_count": 2,
   "metadata": {},
   "outputs": [
    {
     "ename": "SyntaxError",
     "evalue": "invalid syntax (<ipython-input-2-993a83281f82>, line 1)",
     "output_type": "error",
     "traceback": [
      "\u001b[1;36m  File \u001b[1;32m\"<ipython-input-2-993a83281f82>\"\u001b[1;36m, line \u001b[1;32m1\u001b[0m\n\u001b[1;33m    with cte as (select shipped_date, sum(freight) as freight\u001b[0m\n\u001b[1;37m                        ^\u001b[0m\n\u001b[1;31mSyntaxError\u001b[0m\u001b[1;31m:\u001b[0m invalid syntax\n"
     ]
    }
   ],
   "source": [
    "with cte as (select shipped_date, sum(freight) as freight\n",
    "\t\t\t from orders\n",
    "\t\t\t group by shipped_date\n",
    "\t\t\t order by shipped_date),\n",
    "cte2 as\t(select shipped_date, freight, \n",
    "\t\tlag(freight,1) over (order by shipped_date) as previous_freight\n",
    "\t\tfrom cte)\n",
    "\n",
    "select shipped_date, freight, previous_freight, (freight-previous_freight) as variance \n",
    "from cte2;   \n",
    " \n",
    "Result:    \n",
    "    \n",
    "shipped_date |  freight   | previous_freight |  variance\n",
    "--------------+------------+------------------+-------------\n",
    " 1996-07-10   |      11.61 |                  |\n",
    " 1996-07-11   |       51.3 |            11.61 |       39.69\n",
    " 1996-07-12   |      65.83 |             51.3 |   14.530003\n",
    " 1996-07-15   |     189.67 |            65.83 |      123.84\n",
    " 1996-07-16   |      90.55 |           189.67 |  -99.119995\n",
    " 1996-07-17   |      13.97 |            90.55 |      -76.58\n",
    " 1996-07-22   |      81.91 |            13.97 |       67.94\n",
    " 1996-07-23   |  163.48999 |            81.91 |    81.57999\n",
    " 1996-07-25   |      51.54 |        163.48999 |  -111.94999\n",
    " 1996-07-29   |      55.09 |            51.54 |   3.5499992\n",
    " 1996-07-30   |       3.05 |            55.09 |      -52.04\n",
    " 1996-07-31   |     171.79 |             3.05 |   168.73999\n",
    " 1996-08-02   |  202.82999 |           171.79 |   31.039993\n",
    " 1996-08-06   |     306.61 |        202.82999 |      103.78\n",
    " 1996-08-09   |      31.49 |           306.61 |     -275.12\n",
    " 1996-08-12   |     131.35 |            31.49 |    99.86001\n",
    " 1996-08-13   |     125.77 |           131.35 |  -5.5800095\n",
    " 1996-08-14   |      13.84 |           125.77 |  -111.92999\n",
    " 1996-08-16   |  124.53001 |            13.84 |      110.69\n",
    " 1996-08-21   |  15.629999 |        124.53001 |  -108.90001\n",
    " 1996-08-23   |  88.479996 |        15.629999 |       72.85\n",
    " 1996-08-26   |      76.83 |        88.479996 |  -11.649994\n",
    " 1996-08-27   |      76.56 |            76.83 | -0.27000427"
   ]
  },
  {
   "cell_type": "markdown",
   "metadata": {},
   "source": [
    "#### Calculating Sum of Percentage"
   ]
  },
  {
   "cell_type": "code",
   "execution_count": null,
   "metadata": {},
   "outputs": [],
   "source": [
    "with total as (\n",
    "\tselect sum(freight) as total_freight\n",
    "\tfrom orders)\n",
    "\n",
    "select ship_country, \n",
    "\t100*(sum(freight)/total.total_freight) as freight_share\n",
    "\tfrom orders, total\n",
    "group by ship_country, total.total_freight\n",
    "order by ship_country;\n",
    "\n",
    "\n",
    "Result:\n",
    "    \n",
    "ship_country |    freight_share\n",
    "--------------+---------------------\n",
    " Argentina    |  0.9217043407261372\n",
    " Austria      |  11.381565779447556\n",
    " Belgium      |  1.9711825996637344\n",
    " Brazil       |   7.514604181051254\n",
    " Canada       |   3.384659066796303\n",
    " Denmark      |   2.149878442287445\n",
    " Finland      |  1.4026048593223095\n",
    " France       |   6.525501608848572\n",
    " Germany      |  17.374195158481598\n",
    " Ireland      |   4.242568090558052\n",
    " Italy        |  1.3310804031789303\n",
    " Mexico       |  1.7288768664002419\n",
    " Norway       | 0.42421985417604446\n",
    " Poland       | 0.27060762513428926\n",
    " Portugal     |  0.9909190237522125\n",
    " Spain        |   1.327153667807579\n",
    " Sweden       |   4.985315352678299\n",
    " Switzerland  |     2.1072868257761\n",
    " UK           |   4.549038410186768\n",
    " USA          |  21.205273270606995\n",
    " Venezuela    |   4.211679846048355\n",
    "(21 rows)"
   ]
  },
  {
   "cell_type": "code",
   "execution_count": null,
   "metadata": {},
   "outputs": [],
   "source": []
  },
  {
   "cell_type": "code",
   "execution_count": null,
   "metadata": {},
   "outputs": [],
   "source": []
  },
  {
   "cell_type": "code",
   "execution_count": null,
   "metadata": {},
   "outputs": [],
   "source": []
  },
  {
   "cell_type": "code",
   "execution_count": null,
   "metadata": {},
   "outputs": [],
   "source": []
  },
  {
   "cell_type": "markdown",
   "metadata": {},
   "source": [
    "### Using Regular Expressions"
   ]
  },
  {
   "cell_type": "markdown",
   "metadata": {},
   "source": [
    " create a regular expression to retrieve a subset data from the purpose column of the taxdata table in the readonly database (access details below). Write a regular expressions to retrieve that meet the following criteria:"
   ]
  },
  {
   "cell_type": "markdown",
   "metadata": {},
   "source": [
    "Lines that have three digit numbers in parenthesis like (567) "
   ]
  },
  {
   "cell_type": "markdown",
   "metadata": {},
   "source": [
    "Schema for the tax data table:"
   ]
  },
  {
   "cell_type": "markdown",
   "metadata": {},
   "source": [
    "readonly=# \\d+ taxdata\n",
    "  Column  |          Type          |\n",
    "----------+------------------------+\n",
    " id       | integer                |\n",
    " ein      | integer                |\n",
    " name     | character varying(255) |\n",
    " year     | integer                |\n",
    " revenue  | bigint                 |\n",
    " expenses | bigint                 |\n",
    " purpose  | text                   |\n",
    " ptid     | character varying(255) |\n",
    " ptname   | character varying(255) |\n",
    " city     | character varying(255) |\n",
    " state    | character varying(255) |\n",
    " url      | character varying(255) |"
   ]
  },
  {
   "cell_type": "code",
   "execution_count": null,
   "metadata": {},
   "outputs": [],
   "source": [
    "Querying using Regular expression"
   ]
  },
  {
   "cell_type": "code",
   "execution_count": null,
   "metadata": {},
   "outputs": [],
   "source": [
    "SELECT purpose FROM taxdata WHERE purpose ~ '\\([0-9][0-9][0-9]\\)'ORDER BY purpose DESC LIMIT 3;    "
   ]
  },
  {
   "cell_type": "markdown",
   "metadata": {},
   "source": [
    "#### Result"
   ]
  },
  {
   "cell_type": "code",
   "execution_count": null,
   "metadata": {},
   "outputs": [],
   "source": [
    "                                                                                                              purpose                                                                                                                                                                                                \n",
    "-------------------------------------------------------------------------------------------------------------------------------------------------------------------------------------------------------------------------------------------------------------------------------------------------------------------------------------------------------------------------------------------------------\n",
    " VNSA WAS ORGANIZED TO PROVIDE FINANCIAL RESOURCES TO OTHER (501) (C)(3) ORGANIZATIONS PRIMARILY THROUGH AN ANNUAL BOOK SALE. BOOKS ARE DONATED.\n",
    " VNSA WAS ORGANIZED TO PROVIDE FINANCIAL RESOURCES TO OTHER (501) (C)(3) ORGANIZATIONS PRIMARILY THROUGH AN ANNUAL BOOK SALE. BOOKS ARE DONATED.\n",
    " To provide free food distribution to the poor in the North East and surrounding communities Free food distribution to the poor residing in North East and Greenfield townships within the state of Pennsylvania. A total of (293) different households with (720) individuals were served twice per month for a total of 6,512 persons. The total of 130,148 pounds of food was served in 2015.051569\n",
    "(3 rows)"
   ]
  },
  {
   "cell_type": "markdown",
   "metadata": {},
   "source": [
    "### Generating Text and concatination"
   ]
  },
  {
   "cell_type": "markdown",
   "metadata": {},
   "source": [
    "create a table named bigtext with a single TEXT column named content. Insert 100000 records with numbers starting at 100000 and going through 199999 into the table as shown below:\n"
   ]
  },
  {
   "cell_type": "markdown",
   "metadata": {},
   "source": [
    "creating table"
   ]
  },
  {
   "cell_type": "code",
   "execution_count": null,
   "metadata": {},
   "outputs": [],
   "source": [
    "CREATE TABLE bigtext (\n",
    "  content text\n",
    ");"
   ]
  },
  {
   "cell_type": "markdown",
   "metadata": {},
   "source": [
    "Generating 100,000 entries"
   ]
  },
  {
   "cell_type": "code",
   "execution_count": null,
   "metadata": {},
   "outputs": [],
   "source": [
    "insert into bigtext (content) Select 'This is record number '|| generate_series(100000,199999) ||' of quite a few text records.';\n",
    "INSERT 0 100000"
   ]
  },
  {
   "cell_type": "markdown",
   "metadata": {},
   "source": [
    "### Reverse Index in SQL"
   ]
  },
  {
   "cell_type": "markdown",
   "metadata": {},
   "source": [
    " create a table of documents and then produce a reverse index for those documents that identifies each document which contains a particular word using SQL."
   ]
  },
  {
   "cell_type": "markdown",
   "metadata": {},
   "source": [
    "creating the tables "
   ]
  },
  {
   "cell_type": "code",
   "execution_count": null,
   "metadata": {},
   "outputs": [],
   "source": [
    "CREATE TABLE docs01 (id SERIAL, doc TEXT, PRIMARY KEY(id));\n",
    "\n",
    "CREATE TABLE invert01 (\n",
    "  keyword TEXT,\n",
    "  doc_id INTEGER REFERENCES docs01(id) ON DELETE CASCADE\n",
    ");"
   ]
  },
  {
   "cell_type": "markdown",
   "metadata": {},
   "source": [
    "inserting data into docs01"
   ]
  },
  {
   "cell_type": "code",
   "execution_count": null,
   "metadata": {},
   "outputs": [],
   "source": [
    "INSERT INTO docs01 (doc) VALUES\n",
    "('assistants who can take care of many things on our behalf The hardware'),\n",
    "('in our currentday computers is essentially built to continuously ask us'),\n",
    "('the question What would you like me to do next'),\n",
    "('Programmers add an operating system and a set of applications to the'),\n",
    "('hardware and we end up with a Personal Digital Assistant that is quite'),\n",
    "('helpful and capable of helping us do many different things'),\n",
    "('Our computers are fast and have vast amounts of memory and could be very'),\n",
    "('helpful to us if we only knew the language to speak to explain to the'),\n",
    "('computer what we would like it to do next If we knew this language'),\n",
    "('we could tell the computer to do tasks on our behalf that were');"
   ]
  },
  {
   "cell_type": "markdown",
   "metadata": {},
   "source": [
    "Querries to make invert table`"
   ]
  },
  {
   "cell_type": "code",
   "execution_count": null,
   "metadata": {},
   "outputs": [],
   "source": [
    "select distinct(s.keyword) as keyword, id\n",
    "from docs01 as D, unnest(string_to_array(lower(D.doc), ' ')) s(keyword)\n",
    "order by id;\n",
    "\n",
    "insert into invert01 (keyword, doc_id)\n",
    "select distinct(s.keyword) as keyword, id\n",
    "from docs01 as D, unnest(string_to_array(lower(D.doc), ' ')) s(keyword)\n",
    "order by id;\n",
    "\n",
    "\n",
    "select distinct id, doc from docs01 as D\n",
    "join invert01 as I on I.doc_id = D.id\n",
    "where I.keyword= 'and';\n"
   ]
  },
  {
   "cell_type": "markdown",
   "metadata": {},
   "source": [
    "querying result of the table"
   ]
  },
  {
   "cell_type": "code",
   "execution_count": null,
   "metadata": {},
   "outputs": [],
   "source": [
    "SELECT keyword, doc_id FROM invert01 ORDER BY keyword, doc_id LIMIT 10;\n",
    "\n",
    "keyword    |  doc_id\n",
    "-----------+--------\n",
    "a          |    4    \n",
    "a          |    5    \n",
    "add        |    4    \n",
    "amounts    |    7    \n",
    "an         |    4    \n",
    "and        |    4    \n",
    "and        |    5    \n",
    "and        |    6    \n",
    "and        |    7    \n",
    "applications |    4"
   ]
  },
  {
   "cell_type": "markdown",
   "metadata": {},
   "source": [
    "### Reverse Index (with stop words) in SQL"
   ]
  },
  {
   "cell_type": "markdown",
   "metadata": {},
   "source": [
    "create a table of documents and then produce a reverse index with stop words for those documents that identifies each document which contains a particular word using SQL."
   ]
  },
  {
   "cell_type": "markdown",
   "metadata": {},
   "source": [
    "creating the table for reverse index that looks for stop words."
   ]
  },
  {
   "cell_type": "code",
   "execution_count": null,
   "metadata": {},
   "outputs": [],
   "source": [
    "CREATE TABLE docs02 (id SERIAL, doc TEXT, PRIMARY KEY(id));\n",
    "\n",
    "CREATE TABLE invert02 (\n",
    "  keyword TEXT,\n",
    "  doc_id INTEGER REFERENCES docs02(id) ON DELETE CASCADE\n",
    ");"
   ]
  },
  {
   "cell_type": "markdown",
   "metadata": {},
   "source": [
    "inserting data into table"
   ]
  },
  {
   "cell_type": "code",
   "execution_count": null,
   "metadata": {},
   "outputs": [],
   "source": [
    "INSERT INTO docs02 (doc) VALUES\n",
    "('assistants who can take care of many things on our behalf The hardware'),\n",
    "('in our currentday computers is essentially built to continuously ask us'),\n",
    "('the question What would you like me to do next'),\n",
    "('Programmers add an operating system and a set of applications to the'),\n",
    "('hardware and we end up with a Personal Digital Assistant that is quite'),\n",
    "('helpful and capable of helping us do many different things'),\n",
    "('Our computers are fast and have vast amounts of memory and could be very'),\n",
    "('helpful to us if we only knew the language to speak to explain to the'),\n",
    "('computer what we would like it to do next If we knew this language'),\n",
    "('we could tell the computer to do tasks on our behalf that were');"
   ]
  },
  {
   "cell_type": "markdown",
   "metadata": {},
   "source": [
    "creating table with stop words:"
   ]
  },
  {
   "cell_type": "code",
   "execution_count": null,
   "metadata": {},
   "outputs": [],
   "source": [
    "CREATE TABLE stop_words (word TEXT unique);\n",
    "\n",
    "INSERT INTO stop_words (word) VALUES \n",
    "('i'), ('a'), ('about'), ('an'), ('are'), ('as'), ('at'), ('be'), \n",
    "('by'), ('com'), ('for'), ('from'), ('how'), ('in'), ('is'), ('it'), ('of'), \n",
    "('on'), ('or'), ('that'), ('the'), ('this'), ('to'), ('was'), ('what'), \n",
    "('when'), ('where'), ('who'), ('will'), ('with');"
   ]
  },
  {
   "cell_type": "markdown",
   "metadata": {},
   "source": [
    "executing the query"
   ]
  },
  {
   "cell_type": "code",
   "execution_count": null,
   "metadata": {},
   "outputs": [],
   "source": [
    "insert into invert02 (keyword, doc_id)\n",
    "select distinct(s.keyword) as keyword, id\n",
    "from docs02 as D, unnest(string_to_array(lower(D.doc), ' ')) s(keyword)\n",
    "where s.keyword not in (select word from stop_words)\n",
    "order by id;  "
   ]
  },
  {
   "cell_type": "markdown",
   "metadata": {},
   "source": [
    "results"
   ]
  },
  {
   "cell_type": "code",
   "execution_count": null,
   "metadata": {},
   "outputs": [],
   "source": [
    "SELECT keyword, doc_id FROM invert02 ORDER BY keyword, doc_id LIMIT 10;\n",
    "\n",
    "keyword    |  doc_id\n",
    "-----------+--------\n",
    "add        |    4    \n",
    "amounts    |    7    \n",
    "and        |    4    \n",
    "and        |    5    \n",
    "and        |    6    \n",
    "and        |    7    \n",
    "applications |    4    \n",
    "ask        |    2    \n",
    "assistant  |    5    \n",
    "assistants |    1    "
   ]
  },
  {
   "cell_type": "markdown",
   "metadata": {},
   "source": [
    "### String Array Gin Index"
   ]
  },
  {
   "cell_type": "markdown",
   "metadata": {},
   "source": [
    "create a table of documents and then produce a GIN-based text[] reverse index for those documents that identifies each document which contains a particular word using SQL."
   ]
  },
  {
   "cell_type": "markdown",
   "metadata": {},
   "source": [
    "CREATE TABLE docs03 (id SERIAL, doc TEXT, PRIMARY KEY(id));\n",
    "\n",
    "CREATE INDEX array03 ON docs03 USING gin(string_to_array(lower(doc), ' ') array_ops);"
   ]
  },
  {
   "cell_type": "markdown",
   "metadata": {},
   "source": [
    "inserting data"
   ]
  },
  {
   "cell_type": "code",
   "execution_count": null,
   "metadata": {},
   "outputs": [],
   "source": [
    "INSERT INTO docs03 (doc) VALUES\n",
    "('assistants who can take care of many things on our behalf The hardware'),\n",
    "('in our currentday computers is essentially built to continuously ask us'),\n",
    "('the question What would you like me to do next'),\n",
    "('Programmers add an operating system and a set of applications to the'),\n",
    "('hardware and we end up with a Personal Digital Assistant that is quite'),\n",
    "('helpful and capable of helping us do many different things'),\n",
    "('Our computers are fast and have vast amounts of memory and could be very'),\n",
    "('helpful to us if we only knew the language to speak to explain to the'),\n",
    "('computer what we would like it to do next If we knew this language'),\n",
    "('we could tell the computer to do tasks on our behalf that were');\n",
    "\n",
    "\n",
    "INSERT INTO docs03 (doc) SELECT 'Neon ' || generate_series(10000,20000);"
   ]
  },
  {
   "cell_type": "markdown",
   "metadata": {},
   "source": [
    "querying using GIN Index"
   ]
  },
  {
   "cell_type": "code",
   "execution_count": null,
   "metadata": {},
   "outputs": [],
   "source": [
    "SELECT id, doc FROM docs03 WHERE '{applications}' <@ string_to_array(lower(doc), ' ');"
   ]
  },
  {
   "cell_type": "markdown",
   "metadata": {},
   "source": [
    "result"
   ]
  },
  {
   "cell_type": "code",
   "execution_count": null,
   "metadata": {},
   "outputs": [],
   "source": [
    " id |                                 doc                                  \n",
    "----+----------------------------------------------------------------------\n",
    "  4 | Programmers add an operating system and a set of applications to the\n",
    "(1 row)"
   ]
  },
  {
   "cell_type": "markdown",
   "metadata": {},
   "source": [
    "Proving GIN index worked"
   ]
  },
  {
   "cell_type": "code",
   "execution_count": null,
   "metadata": {},
   "outputs": [],
   "source": [
    "EXPLAIN SELECT id, doc FROM docs03 WHERE '{applications}' <@ string_to_array(lower(doc), ' ');"
   ]
  },
  {
   "cell_type": "code",
   "execution_count": null,
   "metadata": {},
   "outputs": [],
   "source": [
    "                             QUERY PLAN                                   \n",
    "--------------------------------------------------------------------------------\n",
    " Seq Scan on docs03  (cost=0.00..230.19 rows=50 width=15)\n",
    "   Filter: ('{applications}'::text[] <@ string_to_array(lower(doc), ' '::text))\n",
    "(2 rows)"
   ]
  },
  {
   "cell_type": "markdown",
   "metadata": {},
   "source": [
    "### GIN ts_vector Index"
   ]
  },
  {
   "cell_type": "markdown",
   "metadata": {},
   "source": [
    "create a table of documents and then produce a GIN-based ts_vector index on the documents."
   ]
  },
  {
   "cell_type": "markdown",
   "metadata": {},
   "source": [
    "creating the table and inserting data "
   ]
  },
  {
   "cell_type": "code",
   "execution_count": null,
   "metadata": {},
   "outputs": [],
   "source": [
    "CREATE TABLE docs03 (id SERIAL, doc TEXT, PRIMARY KEY(id));\n",
    "\n",
    "CREATE INDEX fulltext03 ON docs03 USING gin(to_tsvector('english', doc));\n",
    "\n",
    "INSERT INTO docs03 (doc) VALUES\n",
    "('assistants who can take care of many things on our behalf The hardware'),\n",
    "('in our currentday computers is essentially built to continuously ask us'),\n",
    "('the question What would you like me to do next'),\n",
    "('Programmers add an operating system and a set of applications to the'),\n",
    "('hardware and we end up with a Personal Digital Assistant that is quite'),\n",
    "('helpful and capable of helping us do many different things'),\n",
    "('Our computers are fast and have vast amounts of memory and could be very'),\n",
    "('helpful to us if we only knew the language to speak to explain to the'),\n",
    "('computer what we would like it to do next If we knew this language'),\n",
    "('we could tell the computer to do tasks on our behalf that were');\n",
    "\n",
    "\n",
    "INSERT INTO docs03 (doc) SELECT 'Neon ' || generate_series(10000,20000);"
   ]
  },
  {
   "cell_type": "markdown",
   "metadata": {},
   "source": [
    "seeing if ts_vector works"
   ]
  },
  {
   "cell_type": "code",
   "execution_count": null,
   "metadata": {},
   "outputs": [],
   "source": [
    " id |                                 doc                               \n",
    "   \n",
    "----+-------------------------------------------------------------------\n",
    "---\n",
    "  4 | Programmers add an operating system and a set of applications to t\n",
    "he"
   ]
  },
  {
   "cell_type": "code",
   "execution_count": null,
   "metadata": {},
   "outputs": [],
   "source": [
    "EXPLAIN SELECT id, doc FROM docs03 WHERE to_tsquery('english', 'applications') @@ to_tsvector('english', doc);"
   ]
  },
  {
   "cell_type": "code",
   "execution_count": null,
   "metadata": {},
   "outputs": [],
   "source": [
    "EXPLAIN SELECT id, doc FROM docs03 WHERE to_tsquery('english', 'instructions') @@ to_tsvector('english', doc);\n",
    "                                       QUERY PLAN\n",
    "-----------------------------------------------------------------------------------------\n",
    " Bitmap Heap Scan on docs03  (cost=208.27..268.71 rows=35 width=36)\n",
    "   Recheck Cond: ('''instruct'''::tsquery @@ to_tsvector('english'::regconfig, doc))\n",
    "   ->  Bitmap Index Scan on fulltext03  (cost=0.00..208.26 rows=35 width=0)\n",
    "         Index Cond: ('''instruct'''::tsquery @@ to_tsvector('english'::regconfig, doc))\n",
    "(4 rows)"
   ]
  },
  {
   "cell_type": "markdown",
   "metadata": {},
   "source": [
    "### Using Python with SQL"
   ]
  },
  {
   "cell_type": "markdown",
   "metadata": {},
   "source": [
    "A web crawler application that parses email data from a file and updates a database"
   ]
  },
  {
   "cell_type": "code",
   "execution_count": null,
   "metadata": {},
   "outputs": [],
   "source": [
    "import sqlite3\n",
    "import time\n",
    "import ssl\n",
    "import urllib.request, urllib.parse, urllib.error\n",
    "from urllib.parse import urljoin\n",
    "from urllib.parse import urlparse\n",
    "import re\n",
    "from datetime import datetime, timedelta\n",
    "\n",
    "# Not all systems have this so conditionally define parser\n",
    "try:\n",
    "    import dateutil.parser as parser\n",
    "except:\n",
    "    pass\n",
    "\n",
    "def parsemaildate(md) :\n",
    "    # See if we have dateutil\n",
    "    try:\n",
    "        pdate = parser.parse(tdate)\n",
    "        test_at = pdate.isoformat()\n",
    "        return test_at\n",
    "    except:\n",
    "        pass\n",
    "\n",
    "    # Non-dateutil version - we try our best\n",
    "\n",
    "    pieces = md.split()\n",
    "    notz = \" \".join(pieces[:4]).strip()\n",
    "\n",
    "    # Try a bunch of format variations - strptime() is *lame*\n",
    "    dnotz = None\n",
    "    for form in [ '%d %b %Y %H:%M:%S', '%d %b %Y %H:%M:%S',\n",
    "        '%d %b %Y %H:%M', '%d %b %Y %H:%M', '%d %b %y %H:%M:%S',\n",
    "        '%d %b %y %H:%M:%S', '%d %b %y %H:%M', '%d %b %y %H:%M' ] :\n",
    "        try:\n",
    "            dnotz = datetime.strptime(notz, form)\n",
    "            break\n",
    "        except:\n",
    "            continue\n",
    "\n",
    "    if dnotz is None :\n",
    "        # print 'Bad Date:',md\n",
    "        return None\n",
    "\n",
    "    iso = dnotz.isoformat()\n",
    "\n",
    "    tz = \"+0000\"\n",
    "    try:\n",
    "        tz = pieces[4]\n",
    "        ival = int(tz) # Only want numeric timezone values\n",
    "        if tz == '-0000' : tz = '+0000'\n",
    "        tzh = tz[:3]\n",
    "        tzm = tz[3:]\n",
    "        tz = tzh+\":\"+tzm\n",
    "    except:\n",
    "        pass\n",
    "\n",
    "    return iso+tz\n",
    "\n",
    "# Ignore SSL certificate errors\n",
    "ctx = ssl.create_default_context()\n",
    "ctx.check_hostname = False\n",
    "ctx.verify_mode = ssl.CERT_NONE\n",
    "\n",
    "conn = sqlite3.connect('content.sqlite')\n",
    "cur = conn.cursor()\n",
    "\n",
    "baseurl = \"http://mbox.dr-chuck.net/sakai.devel/\"\n",
    "\n",
    "cur.execute('''CREATE TABLE IF NOT EXISTS Messages\n",
    "    (id INTEGER UNIQUE, email TEXT, sent_at TEXT,\n",
    "     subject TEXT, headers TEXT, body TEXT)''')\n",
    "\n",
    "# Pick up where we left off\n",
    "start = None\n",
    "cur.execute('SELECT max(id) FROM Messages' )\n",
    "try:\n",
    "    row = cur.fetchone()\n",
    "    if row is None :\n",
    "        start = 0\n",
    "    else:\n",
    "        start = row[0]\n",
    "except:\n",
    "    start = 0\n",
    "\n",
    "if start is None : start = 0\n",
    "\n",
    "many = 0\n",
    "count = 0\n",
    "fail = 0\n",
    "while True:\n",
    "    if ( many < 1 ) :\n",
    "        conn.commit()\n",
    "        sval = input('How many messages:')\n",
    "        if ( len(sval) < 1 ) : break\n",
    "        many = int(sval)\n",
    "\n",
    "    start = start + 1\n",
    "    cur.execute('SELECT id FROM Messages WHERE id=?', (start,) )\n",
    "    try:\n",
    "        row = cur.fetchone()\n",
    "        if row is not None : continue\n",
    "    except:\n",
    "        row = None\n",
    "\n",
    "    many = many - 1\n",
    "    url = baseurl + str(start) + '/' + str(start + 1)\n",
    "\n",
    "    text = \"None\"\n",
    "    try:\n",
    "        # Open with a timeout of 30 seconds\n",
    "        document = urllib.request.urlopen(url, None, 30, context=ctx)\n",
    "        text = document.read().decode()\n",
    "        if document.getcode() != 200 :\n",
    "            print(\"Error code=\",document.getcode(), url)\n",
    "            break\n",
    "    except KeyboardInterrupt:\n",
    "        print('')\n",
    "        print('Program interrupted by user...')\n",
    "        break\n",
    "    except Exception as e:\n",
    "        print(\"Unable to retrieve or parse page\",url)\n",
    "        print(\"Error\",e)\n",
    "        fail = fail + 1\n",
    "        if fail > 5 : break\n",
    "        continue\n",
    "\n",
    "    print(url,len(text))\n",
    "    count = count + 1\n",
    "\n",
    "    if not text.startswith(\"From \"):\n",
    "        print(text)\n",
    "        print(\"Did not find From \")\n",
    "        fail = fail + 1\n",
    "        if fail > 5 : break\n",
    "        continue\n",
    "\n",
    "    pos = text.find(\"\\n\\n\")\n",
    "    if pos > 0 :\n",
    "        hdr = text[:pos]\n",
    "        body = text[pos+2:]\n",
    "    else:\n",
    "        print(text)\n",
    "        print(\"Could not find break between headers and body\")\n",
    "        fail = fail + 1\n",
    "        if fail > 5 : break\n",
    "        continue\n",
    "\n",
    "    email = None\n",
    "    x = re.findall('\\nFrom: .* <(\\S+@\\S+)>\\n', hdr)\n",
    "    if len(x) == 1 :\n",
    "        email = x[0];\n",
    "        email = email.strip().lower()\n",
    "        email = email.replace(\"<\",\"\")\n",
    "    else:\n",
    "        x = re.findall('\\nFrom: (\\S+@\\S+)\\n', hdr)\n",
    "        if len(x) == 1 :\n",
    "            email = x[0];\n",
    "            email = email.strip().lower()\n",
    "            email = email.replace(\"<\",\"\")\n",
    "\n",
    "    date = None\n",
    "    y = re.findall('\\Date: .*, (.*)\\n', hdr)\n",
    "    if len(y) == 1 :\n",
    "        tdate = y[0]\n",
    "        tdate = tdate[:26]\n",
    "        try:\n",
    "            sent_at = parsemaildate(tdate)\n",
    "        except:\n",
    "            print(text)\n",
    "            print(\"Parse fail\",tdate)\n",
    "            fail = fail + 1\n",
    "            if fail > 5 : break\n",
    "            continue\n",
    "\n",
    "    subject = None\n",
    "    z = re.findall('\\Subject: (.*)\\n', hdr)\n",
    "    if len(z) == 1 : subject = z[0].strip().lower();\n",
    "\n",
    "    # Reset the fail counter\n",
    "    fail = 0\n",
    "    print(\"   \",email,sent_at,subject)\n",
    "    cur.execute('''INSERT OR IGNORE INTO Messages (id, email, sent_at, subject, headers, body)\n",
    "        VALUES ( ?, ?, ?, ?, ?, ? )''', ( start, email, sent_at, subject, hdr, body))\n",
    "    if count % 50 == 0 : conn.commit()\n",
    "    if count % 100 == 0 : time.sleep(1)\n",
    "\n",
    "conn.commit()\n",
    "cur.close()\n"
   ]
  }
 ],
 "metadata": {
  "kernelspec": {
   "display_name": "Python 3",
   "language": "python",
   "name": "python3"
  },
  "language_info": {
   "codemirror_mode": {
    "name": "ipython",
    "version": 3
   },
   "file_extension": ".py",
   "mimetype": "text/x-python",
   "name": "python",
   "nbconvert_exporter": "python",
   "pygments_lexer": "ipython3",
   "version": "3.8.3"
  }
 },
 "nbformat": 4,
 "nbformat_minor": 4
}
